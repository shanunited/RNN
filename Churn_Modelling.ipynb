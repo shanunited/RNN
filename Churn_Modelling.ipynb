{
  "cells": [
    {
      "cell_type": "code",
      "execution_count": 12,
      "metadata": {
        "id": "tiI7llfOkCSI"
      },
      "outputs": [],
      "source": [
        "# ANN"
      ]
    },
    {
      "cell_type": "code",
      "execution_count": 13,
      "metadata": {
        "id": "6u3Rc8Jmk1vg"
      },
      "outputs": [],
      "source": [
        "#!pip install tensorflow"
      ]
    },
    {
      "cell_type": "code",
      "execution_count": 14,
      "metadata": {
        "id": "XzlkZvpgk7YA"
      },
      "outputs": [],
      "source": [
        "import tensorflow as tf"
      ]
    },
    {
      "cell_type": "code",
      "execution_count": 15,
      "metadata": {
        "id": "r4yyER0-lDY3"
      },
      "outputs": [],
      "source": [
        "import numpy as np\n",
        "import pandas as pd\n",
        "import matplotlib.pyplot as plt\n"
      ]
    },
    {
      "cell_type": "code",
      "execution_count": 16,
      "metadata": {
        "id": "ydIygSxF6D7P"
      },
      "outputs": [],
      "source": [
        "dataset = pd.read_csv(\"C://Users//Shantanu Shrikhande//OneDrive//Desktop//Study Stuff//Dataset//Datasets//Churn_Modelling//Churn_Modelling.csv\")"
      ]
    },
    {
      "cell_type": "code",
      "execution_count": 17,
      "metadata": {
        "colab": {
          "base_uri": "https://localhost:8080/",
          "height": 226
        },
        "id": "bnXU6p4E9cNH",
        "outputId": "8773196b-3b61-4c85-946d-d8d033568ac9"
      },
      "outputs": [
        {
          "data": {
            "text/html": [
              "<div>\n",
              "<style scoped>\n",
              "    .dataframe tbody tr th:only-of-type {\n",
              "        vertical-align: middle;\n",
              "    }\n",
              "\n",
              "    .dataframe tbody tr th {\n",
              "        vertical-align: top;\n",
              "    }\n",
              "\n",
              "    .dataframe thead th {\n",
              "        text-align: right;\n",
              "    }\n",
              "</style>\n",
              "<table border=\"1\" class=\"dataframe\">\n",
              "  <thead>\n",
              "    <tr style=\"text-align: right;\">\n",
              "      <th></th>\n",
              "      <th>RowNumber</th>\n",
              "      <th>CustomerId</th>\n",
              "      <th>Surname</th>\n",
              "      <th>CreditScore</th>\n",
              "      <th>Geography</th>\n",
              "      <th>Gender</th>\n",
              "      <th>Age</th>\n",
              "      <th>Tenure</th>\n",
              "      <th>Balance</th>\n",
              "      <th>NumOfProducts</th>\n",
              "      <th>HasCrCard</th>\n",
              "      <th>IsActiveMember</th>\n",
              "      <th>EstimatedSalary</th>\n",
              "      <th>Exited</th>\n",
              "    </tr>\n",
              "  </thead>\n",
              "  <tbody>\n",
              "    <tr>\n",
              "      <th>0</th>\n",
              "      <td>1</td>\n",
              "      <td>15634602</td>\n",
              "      <td>Hargrave</td>\n",
              "      <td>619</td>\n",
              "      <td>France</td>\n",
              "      <td>Female</td>\n",
              "      <td>42</td>\n",
              "      <td>2</td>\n",
              "      <td>0.00</td>\n",
              "      <td>1</td>\n",
              "      <td>1</td>\n",
              "      <td>1</td>\n",
              "      <td>101348.88</td>\n",
              "      <td>1</td>\n",
              "    </tr>\n",
              "    <tr>\n",
              "      <th>1</th>\n",
              "      <td>2</td>\n",
              "      <td>15647311</td>\n",
              "      <td>Hill</td>\n",
              "      <td>608</td>\n",
              "      <td>Spain</td>\n",
              "      <td>Female</td>\n",
              "      <td>41</td>\n",
              "      <td>1</td>\n",
              "      <td>83807.86</td>\n",
              "      <td>1</td>\n",
              "      <td>0</td>\n",
              "      <td>1</td>\n",
              "      <td>112542.58</td>\n",
              "      <td>0</td>\n",
              "    </tr>\n",
              "    <tr>\n",
              "      <th>2</th>\n",
              "      <td>3</td>\n",
              "      <td>15619304</td>\n",
              "      <td>Onio</td>\n",
              "      <td>502</td>\n",
              "      <td>France</td>\n",
              "      <td>Female</td>\n",
              "      <td>42</td>\n",
              "      <td>8</td>\n",
              "      <td>159660.80</td>\n",
              "      <td>3</td>\n",
              "      <td>1</td>\n",
              "      <td>0</td>\n",
              "      <td>113931.57</td>\n",
              "      <td>1</td>\n",
              "    </tr>\n",
              "    <tr>\n",
              "      <th>3</th>\n",
              "      <td>4</td>\n",
              "      <td>15701354</td>\n",
              "      <td>Boni</td>\n",
              "      <td>699</td>\n",
              "      <td>France</td>\n",
              "      <td>Female</td>\n",
              "      <td>39</td>\n",
              "      <td>1</td>\n",
              "      <td>0.00</td>\n",
              "      <td>2</td>\n",
              "      <td>0</td>\n",
              "      <td>0</td>\n",
              "      <td>93826.63</td>\n",
              "      <td>0</td>\n",
              "    </tr>\n",
              "    <tr>\n",
              "      <th>4</th>\n",
              "      <td>5</td>\n",
              "      <td>15737888</td>\n",
              "      <td>Mitchell</td>\n",
              "      <td>850</td>\n",
              "      <td>Spain</td>\n",
              "      <td>Female</td>\n",
              "      <td>43</td>\n",
              "      <td>2</td>\n",
              "      <td>125510.82</td>\n",
              "      <td>1</td>\n",
              "      <td>1</td>\n",
              "      <td>1</td>\n",
              "      <td>79084.10</td>\n",
              "      <td>0</td>\n",
              "    </tr>\n",
              "  </tbody>\n",
              "</table>\n",
              "</div>"
            ],
            "text/plain": [
              "   RowNumber  CustomerId   Surname  CreditScore Geography  Gender  Age  \\\n",
              "0          1    15634602  Hargrave          619    France  Female   42   \n",
              "1          2    15647311      Hill          608     Spain  Female   41   \n",
              "2          3    15619304      Onio          502    France  Female   42   \n",
              "3          4    15701354      Boni          699    France  Female   39   \n",
              "4          5    15737888  Mitchell          850     Spain  Female   43   \n",
              "\n",
              "   Tenure    Balance  NumOfProducts  HasCrCard  IsActiveMember  \\\n",
              "0       2       0.00              1          1               1   \n",
              "1       1   83807.86              1          0               1   \n",
              "2       8  159660.80              3          1               0   \n",
              "3       1       0.00              2          0               0   \n",
              "4       2  125510.82              1          1               1   \n",
              "\n",
              "   EstimatedSalary  Exited  \n",
              "0        101348.88       1  \n",
              "1        112542.58       0  \n",
              "2        113931.57       1  \n",
              "3         93826.63       0  \n",
              "4         79084.10       0  "
            ]
          },
          "execution_count": 17,
          "metadata": {},
          "output_type": "execute_result"
        }
      ],
      "source": [
        "dataset.head()"
      ]
    },
    {
      "cell_type": "code",
      "execution_count": 18,
      "metadata": {
        "id": "Thk_isrO9fED"
      },
      "outputs": [],
      "source": [
        "X=dataset.iloc[:,3:13]\n",
        "y=dataset.iloc[:,13]"
      ]
    },
    {
      "cell_type": "code",
      "execution_count": 19,
      "metadata": {
        "colab": {
          "base_uri": "https://localhost:8080/",
          "height": 206
        },
        "id": "QtDp7CYf-yOj",
        "outputId": "2b3ad23e-d2e3-4338-87f1-5f5c342239d7"
      },
      "outputs": [
        {
          "data": {
            "text/html": [
              "<div>\n",
              "<style scoped>\n",
              "    .dataframe tbody tr th:only-of-type {\n",
              "        vertical-align: middle;\n",
              "    }\n",
              "\n",
              "    .dataframe tbody tr th {\n",
              "        vertical-align: top;\n",
              "    }\n",
              "\n",
              "    .dataframe thead th {\n",
              "        text-align: right;\n",
              "    }\n",
              "</style>\n",
              "<table border=\"1\" class=\"dataframe\">\n",
              "  <thead>\n",
              "    <tr style=\"text-align: right;\">\n",
              "      <th></th>\n",
              "      <th>CreditScore</th>\n",
              "      <th>Geography</th>\n",
              "      <th>Gender</th>\n",
              "      <th>Age</th>\n",
              "      <th>Tenure</th>\n",
              "      <th>Balance</th>\n",
              "      <th>NumOfProducts</th>\n",
              "      <th>HasCrCard</th>\n",
              "      <th>IsActiveMember</th>\n",
              "      <th>EstimatedSalary</th>\n",
              "    </tr>\n",
              "  </thead>\n",
              "  <tbody>\n",
              "    <tr>\n",
              "      <th>0</th>\n",
              "      <td>619</td>\n",
              "      <td>France</td>\n",
              "      <td>Female</td>\n",
              "      <td>42</td>\n",
              "      <td>2</td>\n",
              "      <td>0.00</td>\n",
              "      <td>1</td>\n",
              "      <td>1</td>\n",
              "      <td>1</td>\n",
              "      <td>101348.88</td>\n",
              "    </tr>\n",
              "    <tr>\n",
              "      <th>1</th>\n",
              "      <td>608</td>\n",
              "      <td>Spain</td>\n",
              "      <td>Female</td>\n",
              "      <td>41</td>\n",
              "      <td>1</td>\n",
              "      <td>83807.86</td>\n",
              "      <td>1</td>\n",
              "      <td>0</td>\n",
              "      <td>1</td>\n",
              "      <td>112542.58</td>\n",
              "    </tr>\n",
              "    <tr>\n",
              "      <th>2</th>\n",
              "      <td>502</td>\n",
              "      <td>France</td>\n",
              "      <td>Female</td>\n",
              "      <td>42</td>\n",
              "      <td>8</td>\n",
              "      <td>159660.80</td>\n",
              "      <td>3</td>\n",
              "      <td>1</td>\n",
              "      <td>0</td>\n",
              "      <td>113931.57</td>\n",
              "    </tr>\n",
              "    <tr>\n",
              "      <th>3</th>\n",
              "      <td>699</td>\n",
              "      <td>France</td>\n",
              "      <td>Female</td>\n",
              "      <td>39</td>\n",
              "      <td>1</td>\n",
              "      <td>0.00</td>\n",
              "      <td>2</td>\n",
              "      <td>0</td>\n",
              "      <td>0</td>\n",
              "      <td>93826.63</td>\n",
              "    </tr>\n",
              "    <tr>\n",
              "      <th>4</th>\n",
              "      <td>850</td>\n",
              "      <td>Spain</td>\n",
              "      <td>Female</td>\n",
              "      <td>43</td>\n",
              "      <td>2</td>\n",
              "      <td>125510.82</td>\n",
              "      <td>1</td>\n",
              "      <td>1</td>\n",
              "      <td>1</td>\n",
              "      <td>79084.10</td>\n",
              "    </tr>\n",
              "  </tbody>\n",
              "</table>\n",
              "</div>"
            ],
            "text/plain": [
              "   CreditScore Geography  Gender  Age  Tenure    Balance  NumOfProducts  \\\n",
              "0          619    France  Female   42       2       0.00              1   \n",
              "1          608     Spain  Female   41       1   83807.86              1   \n",
              "2          502    France  Female   42       8  159660.80              3   \n",
              "3          699    France  Female   39       1       0.00              2   \n",
              "4          850     Spain  Female   43       2  125510.82              1   \n",
              "\n",
              "   HasCrCard  IsActiveMember  EstimatedSalary  \n",
              "0          1               1        101348.88  \n",
              "1          0               1        112542.58  \n",
              "2          1               0        113931.57  \n",
              "3          0               0         93826.63  \n",
              "4          1               1         79084.10  "
            ]
          },
          "execution_count": 19,
          "metadata": {},
          "output_type": "execute_result"
        }
      ],
      "source": [
        "X.head()"
      ]
    },
    {
      "cell_type": "code",
      "execution_count": 20,
      "metadata": {
        "id": "e82az3nj-zr1"
      },
      "outputs": [],
      "source": [
        "geography = pd.get_dummies(X['Geography'],drop_first=True)\n",
        "Gender = pd.get_dummies(X['Gender'],drop_first=True)\n"
      ]
    },
    {
      "cell_type": "code",
      "execution_count": 21,
      "metadata": {
        "id": "2bFs1qJx_rcU"
      },
      "outputs": [],
      "source": [
        "X=X.drop(['Geography','Gender'], axis=1)"
      ]
    },
    {
      "cell_type": "code",
      "execution_count": 22,
      "metadata": {
        "colab": {
          "base_uri": "https://localhost:8080/",
          "height": 423
        },
        "id": "shEiFYvY_44Q",
        "outputId": "5f8f6741-ed1b-443b-9cd0-9f947efb3eef"
      },
      "outputs": [
        {
          "data": {
            "text/html": [
              "<div>\n",
              "<style scoped>\n",
              "    .dataframe tbody tr th:only-of-type {\n",
              "        vertical-align: middle;\n",
              "    }\n",
              "\n",
              "    .dataframe tbody tr th {\n",
              "        vertical-align: top;\n",
              "    }\n",
              "\n",
              "    .dataframe thead th {\n",
              "        text-align: right;\n",
              "    }\n",
              "</style>\n",
              "<table border=\"1\" class=\"dataframe\">\n",
              "  <thead>\n",
              "    <tr style=\"text-align: right;\">\n",
              "      <th></th>\n",
              "      <th>CreditScore</th>\n",
              "      <th>Age</th>\n",
              "      <th>Tenure</th>\n",
              "      <th>Balance</th>\n",
              "      <th>NumOfProducts</th>\n",
              "      <th>HasCrCard</th>\n",
              "      <th>IsActiveMember</th>\n",
              "      <th>EstimatedSalary</th>\n",
              "    </tr>\n",
              "  </thead>\n",
              "  <tbody>\n",
              "    <tr>\n",
              "      <th>0</th>\n",
              "      <td>619</td>\n",
              "      <td>42</td>\n",
              "      <td>2</td>\n",
              "      <td>0.00</td>\n",
              "      <td>1</td>\n",
              "      <td>1</td>\n",
              "      <td>1</td>\n",
              "      <td>101348.88</td>\n",
              "    </tr>\n",
              "    <tr>\n",
              "      <th>1</th>\n",
              "      <td>608</td>\n",
              "      <td>41</td>\n",
              "      <td>1</td>\n",
              "      <td>83807.86</td>\n",
              "      <td>1</td>\n",
              "      <td>0</td>\n",
              "      <td>1</td>\n",
              "      <td>112542.58</td>\n",
              "    </tr>\n",
              "    <tr>\n",
              "      <th>2</th>\n",
              "      <td>502</td>\n",
              "      <td>42</td>\n",
              "      <td>8</td>\n",
              "      <td>159660.80</td>\n",
              "      <td>3</td>\n",
              "      <td>1</td>\n",
              "      <td>0</td>\n",
              "      <td>113931.57</td>\n",
              "    </tr>\n",
              "    <tr>\n",
              "      <th>3</th>\n",
              "      <td>699</td>\n",
              "      <td>39</td>\n",
              "      <td>1</td>\n",
              "      <td>0.00</td>\n",
              "      <td>2</td>\n",
              "      <td>0</td>\n",
              "      <td>0</td>\n",
              "      <td>93826.63</td>\n",
              "    </tr>\n",
              "    <tr>\n",
              "      <th>4</th>\n",
              "      <td>850</td>\n",
              "      <td>43</td>\n",
              "      <td>2</td>\n",
              "      <td>125510.82</td>\n",
              "      <td>1</td>\n",
              "      <td>1</td>\n",
              "      <td>1</td>\n",
              "      <td>79084.10</td>\n",
              "    </tr>\n",
              "    <tr>\n",
              "      <th>...</th>\n",
              "      <td>...</td>\n",
              "      <td>...</td>\n",
              "      <td>...</td>\n",
              "      <td>...</td>\n",
              "      <td>...</td>\n",
              "      <td>...</td>\n",
              "      <td>...</td>\n",
              "      <td>...</td>\n",
              "    </tr>\n",
              "    <tr>\n",
              "      <th>9995</th>\n",
              "      <td>771</td>\n",
              "      <td>39</td>\n",
              "      <td>5</td>\n",
              "      <td>0.00</td>\n",
              "      <td>2</td>\n",
              "      <td>1</td>\n",
              "      <td>0</td>\n",
              "      <td>96270.64</td>\n",
              "    </tr>\n",
              "    <tr>\n",
              "      <th>9996</th>\n",
              "      <td>516</td>\n",
              "      <td>35</td>\n",
              "      <td>10</td>\n",
              "      <td>57369.61</td>\n",
              "      <td>1</td>\n",
              "      <td>1</td>\n",
              "      <td>1</td>\n",
              "      <td>101699.77</td>\n",
              "    </tr>\n",
              "    <tr>\n",
              "      <th>9997</th>\n",
              "      <td>709</td>\n",
              "      <td>36</td>\n",
              "      <td>7</td>\n",
              "      <td>0.00</td>\n",
              "      <td>1</td>\n",
              "      <td>0</td>\n",
              "      <td>1</td>\n",
              "      <td>42085.58</td>\n",
              "    </tr>\n",
              "    <tr>\n",
              "      <th>9998</th>\n",
              "      <td>772</td>\n",
              "      <td>42</td>\n",
              "      <td>3</td>\n",
              "      <td>75075.31</td>\n",
              "      <td>2</td>\n",
              "      <td>1</td>\n",
              "      <td>0</td>\n",
              "      <td>92888.52</td>\n",
              "    </tr>\n",
              "    <tr>\n",
              "      <th>9999</th>\n",
              "      <td>792</td>\n",
              "      <td>28</td>\n",
              "      <td>4</td>\n",
              "      <td>130142.79</td>\n",
              "      <td>1</td>\n",
              "      <td>1</td>\n",
              "      <td>0</td>\n",
              "      <td>38190.78</td>\n",
              "    </tr>\n",
              "  </tbody>\n",
              "</table>\n",
              "<p>10000 rows × 8 columns</p>\n",
              "</div>"
            ],
            "text/plain": [
              "      CreditScore  Age  Tenure    Balance  NumOfProducts  HasCrCard  \\\n",
              "0             619   42       2       0.00              1          1   \n",
              "1             608   41       1   83807.86              1          0   \n",
              "2             502   42       8  159660.80              3          1   \n",
              "3             699   39       1       0.00              2          0   \n",
              "4             850   43       2  125510.82              1          1   \n",
              "...           ...  ...     ...        ...            ...        ...   \n",
              "9995          771   39       5       0.00              2          1   \n",
              "9996          516   35      10   57369.61              1          1   \n",
              "9997          709   36       7       0.00              1          0   \n",
              "9998          772   42       3   75075.31              2          1   \n",
              "9999          792   28       4  130142.79              1          1   \n",
              "\n",
              "      IsActiveMember  EstimatedSalary  \n",
              "0                  1        101348.88  \n",
              "1                  1        112542.58  \n",
              "2                  0        113931.57  \n",
              "3                  0         93826.63  \n",
              "4                  1         79084.10  \n",
              "...              ...              ...  \n",
              "9995               0         96270.64  \n",
              "9996               1        101699.77  \n",
              "9997               1         42085.58  \n",
              "9998               0         92888.52  \n",
              "9999               0         38190.78  \n",
              "\n",
              "[10000 rows x 8 columns]"
            ]
          },
          "execution_count": 22,
          "metadata": {},
          "output_type": "execute_result"
        }
      ],
      "source": [
        "X"
      ]
    },
    {
      "cell_type": "code",
      "execution_count": 23,
      "metadata": {
        "id": "KTA9F3lIAKfB"
      },
      "outputs": [],
      "source": [
        "X=pd.concat([X,geography,Gender], axis=1)"
      ]
    },
    {
      "cell_type": "code",
      "execution_count": 24,
      "metadata": {
        "id": "Qh2FvtElAWaK"
      },
      "outputs": [],
      "source": [
        "from sklearn.model_selection import train_test_split\n",
        "X_train,X_test,y_train,y_test = train_test_split(X,y,test_size=0.2, random_state=0)"
      ]
    },
    {
      "cell_type": "code",
      "execution_count": 25,
      "metadata": {
        "id": "Ngl81Un5DkUe"
      },
      "outputs": [],
      "source": [
        "from sklearn.preprocessing import StandardScaler\n",
        "sc = StandardScaler()\n",
        "X_train = sc.fit_transform(X_train)\n",
        "X_test = sc.transform(X_test)"
      ]
    },
    {
      "cell_type": "code",
      "execution_count": 26,
      "metadata": {
        "colab": {
          "base_uri": "https://localhost:8080/"
        },
        "id": "c0fm2pG3OTI_",
        "outputId": "805fb343-d869-4cc3-ff22-5ea8706e6264"
      },
      "outputs": [
        {
          "data": {
            "text/plain": [
              "(8000, 11)"
            ]
          },
          "execution_count": 26,
          "metadata": {},
          "output_type": "execute_result"
        }
      ],
      "source": [
        "X_train.shape"
      ]
    },
    {
      "cell_type": "code",
      "execution_count": 27,
      "metadata": {
        "id": "A-udcnxxOjlF"
      },
      "outputs": [],
      "source": [
        "from tensorflow.keras.models import Sequential\n",
        "from tensorflow.keras.layers import Dense\n",
        "from tensorflow.keras.layers import LeakyReLU, PReLU, ELU, ReLU\n",
        "from tensorflow.keras.layers import Dropout"
      ]
    },
    {
      "cell_type": "code",
      "execution_count": 28,
      "metadata": {
        "id": "uhiISU5ZPyVL"
      },
      "outputs": [],
      "source": [
        "classifier =  Sequential()"
      ]
    },
    {
      "cell_type": "code",
      "execution_count": 29,
      "metadata": {
        "id": "-rEFIIEyRApv"
      },
      "outputs": [],
      "source": [
        "#Input layer\n",
        "classifier.add(Dense(units=11,activation = 'relu'))\n",
        "#hidden layer\n",
        "classifier.add(Dense(units=7,activation = 'relu'))\n",
        "classifier.add(Dense(units=6,activation = 'relu'))\n",
        "#Output layer\n",
        "classifier.add(Dense(units=1,activation = 'sigmoid'))"
      ]
    },
    {
      "cell_type": "code",
      "execution_count": 30,
      "metadata": {
        "id": "m7SS70-TR1Fk"
      },
      "outputs": [],
      "source": [
        "classifier.compile(optimizer='adam',loss='binary_crossentropy',metrics=['accuracy'])"
      ]
    },
    {
      "cell_type": "code",
      "execution_count": 32,
      "metadata": {
        "colab": {
          "base_uri": "https://localhost:8080/",
          "height": 1000
        },
        "id": "ksW-srMSXbaX",
        "outputId": "79dc1fde-6704-40f7-c9c2-927c6a04f8c5"
      },
      "outputs": [],
      "source": [
        "#model_history = classifier.fit(X_train,y_train,validation_split= 0.33,batch_size=10,epochs=1000)"
      ]
    },
    {
      "cell_type": "code",
      "execution_count": 40,
      "metadata": {
        "id": "1zOXWfjDXzOc"
      },
      "outputs": [
        {
          "ename": "TypeError",
          "evalue": "EarlyStopping.__init__() got an unexpected keyword argument 'start_from_epoch'",
          "output_type": "error",
          "traceback": [
            "\u001b[1;31m---------------------------------------------------------------------------\u001b[0m",
            "\u001b[1;31mTypeError\u001b[0m                                 Traceback (most recent call last)",
            "Cell \u001b[1;32mIn[40], line 2\u001b[0m\n\u001b[0;32m      1\u001b[0m \u001b[38;5;28;01mimport\u001b[39;00m \u001b[38;5;21;01mtensorflow\u001b[39;00m \u001b[38;5;28;01mas\u001b[39;00m \u001b[38;5;21;01mtf\u001b[39;00m\n\u001b[1;32m----> 2\u001b[0m early_stopping \u001b[38;5;241m=\u001b[39m \u001b[43mtf\u001b[49m\u001b[38;5;241;43m.\u001b[39;49m\u001b[43mkeras\u001b[49m\u001b[38;5;241;43m.\u001b[39;49m\u001b[43mcallbacks\u001b[49m\u001b[38;5;241;43m.\u001b[39;49m\u001b[43mEarlyStopping\u001b[49m\u001b[43m(\u001b[49m\n\u001b[0;32m      3\u001b[0m \u001b[43m    \u001b[49m\u001b[43mmonitor\u001b[49m\u001b[38;5;241;43m=\u001b[39;49m\u001b[38;5;124;43m\"\u001b[39;49m\u001b[38;5;124;43mval_loss\u001b[39;49m\u001b[38;5;124;43m\"\u001b[39;49m\u001b[43m,\u001b[49m\n\u001b[0;32m      4\u001b[0m \u001b[43m    \u001b[49m\u001b[43mmin_delta\u001b[49m\u001b[38;5;241;43m=\u001b[39;49m\u001b[38;5;241;43m0.0001\u001b[39;49m\u001b[43m,\u001b[49m\n\u001b[0;32m      5\u001b[0m \u001b[43m    \u001b[49m\u001b[43mpatience\u001b[49m\u001b[38;5;241;43m=\u001b[39;49m\u001b[38;5;241;43m20\u001b[39;49m\u001b[43m,\u001b[49m\n\u001b[0;32m      6\u001b[0m \u001b[43m    \u001b[49m\u001b[43mverbose\u001b[49m\u001b[38;5;241;43m=\u001b[39;49m\u001b[38;5;241;43m1\u001b[39;49m\u001b[43m,\u001b[49m\n\u001b[0;32m      7\u001b[0m \u001b[43m    \u001b[49m\u001b[43mmode\u001b[49m\u001b[38;5;241;43m=\u001b[39;49m\u001b[38;5;124;43m\"\u001b[39;49m\u001b[38;5;124;43mauto\u001b[39;49m\u001b[38;5;124;43m\"\u001b[39;49m\u001b[43m,\u001b[49m\n\u001b[0;32m      8\u001b[0m \u001b[43m    \u001b[49m\u001b[43mbaseline\u001b[49m\u001b[38;5;241;43m=\u001b[39;49m\u001b[38;5;28;43;01mNone\u001b[39;49;00m\u001b[43m,\u001b[49m\n\u001b[0;32m      9\u001b[0m \u001b[43m    \u001b[49m\u001b[43mrestore_best_weights\u001b[49m\u001b[38;5;241;43m=\u001b[39;49m\u001b[38;5;28;43;01mFalse\u001b[39;49;00m\u001b[43m,\u001b[49m\n\u001b[0;32m     10\u001b[0m \u001b[43m    \u001b[49m\u001b[43mstart_from_epoch\u001b[49m\u001b[38;5;241;43m=\u001b[39;49m\u001b[38;5;241;43m0\u001b[39;49m\u001b[43m,\u001b[49m\n\u001b[0;32m     11\u001b[0m \u001b[43m)\u001b[49m\n",
            "\u001b[1;31mTypeError\u001b[0m: EarlyStopping.__init__() got an unexpected keyword argument 'start_from_epoch'"
          ]
        }
      ],
      "source": [
        "import tensorflow as tf\n",
        "early_stopping = tf.keras.callbacks.EarlyStopping(\n",
        "    monitor=\"val_loss\",\n",
        "    min_delta=0.0001,\n",
        "    patience=20,\n",
        "    verbose=1,\n",
        "    mode=\"auto\",\n",
        "    baseline=None,\n",
        "    restore_best_weights=False,\n",
        "    start_from_epoch=0,\n",
        ")"
      ]
    },
    {
      "cell_type": "code",
      "execution_count": null,
      "metadata": {
        "colab": {
          "base_uri": "https://localhost:8080/"
        },
        "id": "-aIi7ZGuYxaD",
        "outputId": "ba20422c-c744-4fdc-80ac-9881419a74b1"
      },
      "outputs": [
        {
          "name": "stdout",
          "output_type": "stream",
          "text": [
            "Epoch 1/1000\n",
            "536/536 [==============================] - 2s 5ms/step - loss: 0.3160 - accuracy: 0.8670 - val_loss: 0.3649 - val_accuracy: 0.8561\n",
            "Epoch 2/1000\n",
            "536/536 [==============================] - 2s 5ms/step - loss: 0.3169 - accuracy: 0.8718 - val_loss: 0.3647 - val_accuracy: 0.8542\n",
            "Epoch 3/1000\n",
            "536/536 [==============================] - 2s 4ms/step - loss: 0.3162 - accuracy: 0.8684 - val_loss: 0.3640 - val_accuracy: 0.8535\n",
            "Epoch 4/1000\n",
            "536/536 [==============================] - 3s 6ms/step - loss: 0.3156 - accuracy: 0.8658 - val_loss: 0.3672 - val_accuracy: 0.8550\n",
            "Epoch 5/1000\n",
            "536/536 [==============================] - 2s 4ms/step - loss: 0.3155 - accuracy: 0.8656 - val_loss: 0.3669 - val_accuracy: 0.8550\n",
            "Epoch 6/1000\n",
            "536/536 [==============================] - 2s 5ms/step - loss: 0.3166 - accuracy: 0.8666 - val_loss: 0.3646 - val_accuracy: 0.8542\n",
            "Epoch 7/1000\n",
            "536/536 [==============================] - 2s 5ms/step - loss: 0.3143 - accuracy: 0.8705 - val_loss: 0.3659 - val_accuracy: 0.8538\n",
            "Epoch 8/1000\n",
            "536/536 [==============================] - 3s 5ms/step - loss: 0.3142 - accuracy: 0.8707 - val_loss: 0.3646 - val_accuracy: 0.8557\n",
            "Epoch 9/1000\n",
            "536/536 [==============================] - 3s 5ms/step - loss: 0.3143 - accuracy: 0.8668 - val_loss: 0.3696 - val_accuracy: 0.8542\n",
            "Epoch 10/1000\n",
            "536/536 [==============================] - 2s 5ms/step - loss: 0.3144 - accuracy: 0.8688 - val_loss: 0.3656 - val_accuracy: 0.8565\n",
            "Epoch 11/1000\n",
            "536/536 [==============================] - 2s 5ms/step - loss: 0.3141 - accuracy: 0.8688 - val_loss: 0.3669 - val_accuracy: 0.8569\n",
            "Epoch 12/1000\n",
            "536/536 [==============================] - 2s 4ms/step - loss: 0.3143 - accuracy: 0.8670 - val_loss: 0.3658 - val_accuracy: 0.8546\n",
            "Epoch 13/1000\n",
            "536/536 [==============================] - 3s 6ms/step - loss: 0.3136 - accuracy: 0.8679 - val_loss: 0.3659 - val_accuracy: 0.8569\n",
            "Epoch 14/1000\n",
            "536/536 [==============================] - 2s 4ms/step - loss: 0.3139 - accuracy: 0.8688 - val_loss: 0.3669 - val_accuracy: 0.8561\n",
            "Epoch 15/1000\n",
            "536/536 [==============================] - 2s 4ms/step - loss: 0.3134 - accuracy: 0.8671 - val_loss: 0.3693 - val_accuracy: 0.8554\n",
            "Epoch 16/1000\n",
            "536/536 [==============================] - 2s 4ms/step - loss: 0.3128 - accuracy: 0.8683 - val_loss: 0.3704 - val_accuracy: 0.8542\n",
            "Epoch 17/1000\n",
            "536/536 [==============================] - 2s 4ms/step - loss: 0.3137 - accuracy: 0.8683 - val_loss: 0.3659 - val_accuracy: 0.8569\n",
            "Epoch 18/1000\n",
            "536/536 [==============================] - 3s 5ms/step - loss: 0.3123 - accuracy: 0.8692 - val_loss: 0.3660 - val_accuracy: 0.8554\n",
            "Epoch 19/1000\n",
            "536/536 [==============================] - 2s 5ms/step - loss: 0.3126 - accuracy: 0.8683 - val_loss: 0.3670 - val_accuracy: 0.8550\n",
            "Epoch 20/1000\n",
            "536/536 [==============================] - 2s 5ms/step - loss: 0.3123 - accuracy: 0.8668 - val_loss: 0.3663 - val_accuracy: 0.8535\n",
            "Epoch 21/1000\n",
            "536/536 [==============================] - 2s 5ms/step - loss: 0.3120 - accuracy: 0.8683 - val_loss: 0.3662 - val_accuracy: 0.8516\n",
            "Epoch 22/1000\n",
            "536/536 [==============================] - 2s 4ms/step - loss: 0.3119 - accuracy: 0.8684 - val_loss: 0.3720 - val_accuracy: 0.8550\n",
            "Epoch 23/1000\n",
            "536/536 [==============================] - 3s 6ms/step - loss: 0.3115 - accuracy: 0.8671 - val_loss: 0.3675 - val_accuracy: 0.8576\n",
            "Epoch 23: early stopping\n"
          ]
        }
      ],
      "source": [
        "model_history = classifier.fit(X_train,y_train,validation_split= 0.33,batch_size=10,epochs=1000,callbacks = early_stopping)"
      ]
    },
    {
      "cell_type": "code",
      "execution_count": null,
      "metadata": {
        "colab": {
          "base_uri": "https://localhost:8080/"
        },
        "id": "6g_OO6zmcgHt",
        "outputId": "66df796a-99bb-4b3a-a965-91a41f70a4c7"
      },
      "outputs": [
        {
          "data": {
            "text/plain": [
              "dict_keys(['loss', 'accuracy', 'val_loss', 'val_accuracy'])"
            ]
          },
          "execution_count": 23,
          "metadata": {},
          "output_type": "execute_result"
        }
      ],
      "source": [
        "model_history.history.keys()"
      ]
    },
    {
      "cell_type": "code",
      "execution_count": null,
      "metadata": {
        "colab": {
          "base_uri": "https://localhost:8080/"
        },
        "id": "yPBjy3fXfz0x",
        "outputId": "ec3c1347-cfd4-4e01-fab4-5cd87aa399cc"
      },
      "outputs": [
        {
          "name": "stdout",
          "output_type": "stream",
          "text": [
            "63/63 [==============================] - 0s 2ms/step\n"
          ]
        }
      ],
      "source": [
        "y_pred = classifier.predict(X_test)\n",
        "y_pred = (y_pred>=0.5)"
      ]
    },
    {
      "cell_type": "code",
      "execution_count": null,
      "metadata": {
        "colab": {
          "base_uri": "https://localhost:8080/"
        },
        "id": "6uJPQsyPhaEy",
        "outputId": "00234e83-3bee-4838-b7b1-3366113c4e8f"
      },
      "outputs": [
        {
          "data": {
            "text/plain": [
              "array([[1490,  105],\n",
              "       [ 190,  215]])"
            ]
          },
          "execution_count": 25,
          "metadata": {},
          "output_type": "execute_result"
        }
      ],
      "source": [
        "from sklearn.metrics import confusion_matrix\n",
        "cm = confusion_matrix(y_test,y_pred)\n",
        "cm"
      ]
    },
    {
      "cell_type": "code",
      "execution_count": null,
      "metadata": {
        "id": "oIW8Y59qhoDO"
      },
      "outputs": [],
      "source": [
        "from sklearn.metrics import accuracy_score\n",
        "score = accuracy_score(y_pred,y_test)"
      ]
    },
    {
      "cell_type": "code",
      "execution_count": null,
      "metadata": {
        "colab": {
          "base_uri": "https://localhost:8080/"
        },
        "id": "l1k99mnzh40f",
        "outputId": "ada8fb74-bb76-460e-f28b-d48abf6cb60c"
      },
      "outputs": [
        {
          "data": {
            "text/plain": [
              "0.8525"
            ]
          },
          "execution_count": 27,
          "metadata": {},
          "output_type": "execute_result"
        }
      ],
      "source": [
        "score"
      ]
    },
    {
      "cell_type": "code",
      "execution_count": null,
      "metadata": {
        "colab": {
          "base_uri": "https://localhost:8080/"
        },
        "id": "hvFxdrfeh6lv",
        "outputId": "69e5ddbf-e949-491d-bbeb-2d1061781517"
      },
      "outputs": [
        {
          "data": {
            "text/plain": [
              "[array([[ 0.40336147, -0.00665523,  0.04248885,  0.09008642, -0.4680607 ,\n",
              "          0.12632146, -0.06418531,  0.07160509,  0.1536439 , -0.02770229,\n",
              "         -0.07967341],\n",
              "        [-0.97423893, -0.3077613 ,  0.42016852, -0.23533832,  0.04280537,\n",
              "          0.22858149, -0.47906005,  1.1273141 , -0.25751752,  0.43801922,\n",
              "         -0.78945845],\n",
              "        [-0.18080556, -0.07980677, -0.34957698,  0.04772627, -0.41118908,\n",
              "          0.09321441,  0.69217086,  0.07599919, -0.12476779, -0.04300245,\n",
              "         -0.0425129 ],\n",
              "        [-0.28194526,  1.4486517 , -0.36935   ,  0.00385092, -0.25182837,\n",
              "         -0.76298743, -0.6709283 , -0.48512828, -0.13665412,  0.34558633,\n",
              "          0.10639351],\n",
              "        [-0.12955105, -0.30284196, -0.8375782 ,  1.4274765 , -0.45640793,\n",
              "         -1.0029078 , -0.3394404 ,  0.6151354 ,  0.29625   ,  1.0240868 ,\n",
              "          0.36689937],\n",
              "        [-0.09832643,  0.01472949,  0.20067273, -0.04191706,  0.19589998,\n",
              "          0.10550876, -0.6485143 ,  0.34697834,  0.76173085, -0.07317924,\n",
              "          0.21269727],\n",
              "        [-0.3465125 , -0.20211501,  0.04107157,  0.07949413, -0.35084066,\n",
              "         -0.22257882,  0.32581174,  0.62082815,  0.1928398 , -0.6879463 ,\n",
              "         -0.36551717],\n",
              "        [ 0.24706714,  0.05889056,  0.9538688 , -0.04184129, -0.88116914,\n",
              "          0.09392098, -0.40674388,  0.35345393,  0.3674304 , -0.19339961,\n",
              "         -0.20214604],\n",
              "        [-0.09953658,  0.4159654 , -0.4825252 ,  0.25209236, -0.26458538,\n",
              "          0.5120457 , -0.21090242,  0.2952493 ,  0.03906168, -0.10523419,\n",
              "          0.28739232],\n",
              "        [ 0.07467542, -0.5978989 ,  0.22493786,  0.17016917, -0.02985879,\n",
              "         -0.00399551, -0.03150261,  0.40361288, -0.3472432 ,  0.38284284,\n",
              "          0.05620553],\n",
              "        [ 0.14047973, -0.11148462, -0.08428818, -0.01385115, -0.20953074,\n",
              "          0.0881722 ,  0.84435666,  0.30383095,  0.24232355, -0.07909071,\n",
              "         -0.16884017]], dtype=float32),\n",
              " array([ 0.88499266, -0.5507804 , -0.27560723,  0.18203844,  0.29013452,\n",
              "         0.01419506,  0.16981287, -0.2268874 ,  0.26755607,  0.0812446 ,\n",
              "         0.97850627], dtype=float32),\n",
              " array([[-0.15687071,  0.17924362,  0.1838789 ,  0.73992103, -0.12066934,\n",
              "          0.6596226 , -0.37903133],\n",
              "        [-0.52112234,  0.22270238, -1.0348955 , -0.2451055 ,  0.60909826,\n",
              "          0.3939914 ,  0.27531287],\n",
              "        [ 0.5654332 ,  0.03869169,  0.4072338 ,  0.31123495,  0.14302103,\n",
              "          0.41574854,  0.6082729 ],\n",
              "        [ 0.8362784 ,  0.21570507, -0.16003785,  0.04094514,  0.15911706,\n",
              "         -0.45193857, -0.50615865],\n",
              "        [-0.5674025 , -0.05596218,  0.05983758,  0.549065  ,  0.6145532 ,\n",
              "          0.02886396,  0.4389923 ],\n",
              "        [-0.09708931, -0.18867083,  0.6501399 , -0.2722937 , -0.64512193,\n",
              "          0.32873583,  0.8314097 ],\n",
              "        [-0.17900968,  0.7159003 , -0.10469286,  0.437274  ,  0.5570246 ,\n",
              "          0.38735676,  0.3976719 ],\n",
              "        [ 0.5909785 , -0.7963824 ,  0.31351027,  0.49470064,  0.27599087,\n",
              "         -0.3925    , -0.31090185],\n",
              "        [ 0.30391458,  0.5339206 , -0.3066394 ,  0.1186349 ,  0.15527707,\n",
              "         -0.50199074, -0.10740464],\n",
              "        [ 0.53368855, -0.1164697 , -0.0010511 , -0.42947057, -0.33155054,\n",
              "         -0.29628125,  0.48564336],\n",
              "        [-0.05730331, -0.21782409,  0.37989646, -0.28393108, -0.05494034,\n",
              "          0.1635639 , -0.68369764]], dtype=float32),\n",
              " array([ 0.2968336 ,  0.73223287,  0.29735723,  0.03884383,  0.39847803,\n",
              "        -0.36724144,  0.14791448], dtype=float32),\n",
              " array([[-0.10197352,  0.19528519,  0.51218575,  0.5822799 , -0.38998514,\n",
              "          0.79217416],\n",
              "        [-0.2557022 ,  0.8633096 ,  0.71078473, -0.03964508,  0.12618935,\n",
              "         -0.19201642],\n",
              "        [ 0.6436458 ,  0.5286763 ,  0.01250659, -0.4867837 , -0.5823998 ,\n",
              "         -0.41505867],\n",
              "        [-0.9153795 , -0.21113066,  0.4317314 , -0.59784824, -0.4894641 ,\n",
              "         -0.87191576],\n",
              "        [-0.36371392,  0.28949395,  0.39524052, -0.0350702 , -0.25268924,\n",
              "         -0.6452037 ],\n",
              "        [-0.28414086,  0.19368254, -0.7680554 ,  0.03322155, -0.20196122,\n",
              "         -2.1060581 ],\n",
              "        [-0.14863648, -0.5050901 , -0.30541325,  1.3239952 ,  0.00597036,\n",
              "         -0.0229291 ]], dtype=float32),\n",
              " array([ 0.63497937,  0.35172155,  0.5924213 ,  0.00496397,  0.        ,\n",
              "        -0.15898643], dtype=float32),\n",
              " array([[-1.6543441 ],\n",
              "        [-0.33015382],\n",
              "        [-0.8092407 ],\n",
              "        [ 1.0541784 ],\n",
              "        [-0.5103011 ],\n",
              "        [ 1.4833795 ]], dtype=float32),\n",
              " array([-0.32498488], dtype=float32)]"
            ]
          },
          "execution_count": 28,
          "metadata": {},
          "output_type": "execute_result"
        }
      ],
      "source": [
        "classifier.get_weights()"
      ]
    },
    {
      "cell_type": "code",
      "execution_count": null,
      "metadata": {
        "id": "cBDQzEjNh_dV"
      },
      "outputs": [],
      "source": []
    }
  ],
  "metadata": {
    "accelerator": "GPU",
    "colab": {
      "gpuType": "T4",
      "provenance": []
    },
    "kernelspec": {
      "display_name": "Python 3",
      "name": "python3"
    },
    "language_info": {
      "codemirror_mode": {
        "name": "ipython",
        "version": 3
      },
      "file_extension": ".py",
      "mimetype": "text/x-python",
      "name": "python",
      "nbconvert_exporter": "python",
      "pygments_lexer": "ipython3",
      "version": "3.10.9"
    }
  },
  "nbformat": 4,
  "nbformat_minor": 0
}
